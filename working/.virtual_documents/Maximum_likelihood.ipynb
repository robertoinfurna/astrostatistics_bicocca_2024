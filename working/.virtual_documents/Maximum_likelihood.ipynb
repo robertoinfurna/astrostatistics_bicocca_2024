import numpy as np
import matplotlib.pyplot as plt
import random


sample = []
for i in range(1000):
    sample.append(random.gauss(1,0.2))
plt.hist(sample,30)
plt.show()


#define for every x_i of the sample a gaussian function with sigma 0.2 and centered on x_i
x = np.linspace(-1,3,100)
def gaussian(mu,sigma):
    return (1.0 / (np.sqrt(2.0 * np.pi) * sigma))*np.exp(-(x-mu)**2 /(2*sigma**2)) 
for x_i in sample: 
    plt.plot(x,gaussian(x_i,0.2))



