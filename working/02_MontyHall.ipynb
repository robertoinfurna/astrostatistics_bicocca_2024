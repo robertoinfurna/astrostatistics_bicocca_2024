{
 "cells": [
  {
   "cell_type": "markdown",
   "id": "d4f70dd3-d18a-4754-90fa-277cfbacd520",
   "metadata": {},
   "source": [
    "# Monty Hall\n",
    "\n",
    "A very famous stats mind trick... You might have seen this already.\n",
    "\n",
    "The [Monty Hall Problem](https://en.wikipedia.org/wiki/Monty_Hall_problem) was originally posed (and solved) in a letter by Steve Selvin to the American Statistician in [1975](https://www.tandfonline.com/doi/abs/10.1080/00031305.1975.10479121). It became famous as a question from reader Craig F. Whitaker's letter quoted in Marilyn vos Savant's \"Ask Marilyn\" column in Parade magazine in 1990\n",
    "\n",
    "\n",
    "You are playing a TV game show and are shown 2 doors.  One has a car behind it, the other a goat.  What are your chances of picking the door with the car?\n",
    "\n",
    "OK, now there are 3 doors: one with a car, two with goats.  The game show host asks you to pick a door, but not to open it yet.  Then the host opens one of the other two doors (that you did not pick) and that has a goat.  The host offers you the opportunity to switch doors.\n",
    "\n",
    "- One player decides to switch\n",
    "- Another player prefers to stay with the previous choice\n",
    " \n",
    "![https://upload.wikimedia.org/wikipedia/commons/thumb/3/3f/Monty_open_door.svg/180px-Monty_open_door.svg.png](https://upload.wikimedia.org/wikipedia/commons/thumb/3/3f/Monty_open_door.svg/180px-Monty_open_door.svg.png)\n",
    "\n",
    "- Now a third player comes in who has not seen what happened earlier. They pick a door.\n",
    "\n",
    "*Which of the three players is most likely to win?*\n",
    "\n",
    "You might know or remember the answer already... but don't think now! **Let's simulate it**. \n"
   ]
  },
  {
   "cell_type": "code",
   "execution_count": 1,
   "id": "25ca1338-7d75-431f-bb29-2266f7bf2cea",
   "metadata": {},
   "outputs": [
    {
     "data": {
      "image/jpeg": "[encoded data removed]",
      "text/html": [
       "\n",
       "        <iframe\n",
       "            width=\"600\"\n",
       "            height=\"400\"\n",
       "            src=\"https://www.youtube.com/embed/ggDQXlinbME\"\n",
       "            frameborder=\"0\"\n",
       "            allowfullscreen\n",
       "            \n",
       "        ></iframe>\n",
       "        "
      ],
      "text/plain": [
       "<IPython.lib.display.YouTubeVideo at 0x78c9e9745710>"
      ]
     },
     "execution_count": 1,
     "metadata": {},
     "output_type": "execute_result"
    }
   ],
   "source": [
    "from IPython.display import YouTubeVideo\n",
    "YouTubeVideo('ggDQXlinbME', width=600, height=400)"
   ]
  },
  {
   "cell_type": "code",
   "execution_count": 5,
   "id": "4860673d",
   "metadata": {},
   "outputs": [],
   "source": [
    "import numpy as np\n",
    "import pylab as plt\n",
    "import random\n",
    "from collections import Counter"
   ]
  },
  {
   "cell_type": "code",
   "execution_count": 6,
   "id": "ef897aec",
   "metadata": {},
   "outputs": [],
   "source": [
    "\n",
    "def MontyHall(N): \n",
    "    \"\"\"\n",
    "    Simulates a generalized Monty Hall problem with N doors.\n",
    "\n",
    "    In this simulation:\n",
    "    - A car is hidden behind one of N doors.\n",
    "    - A player picks a door at random.\n",
    "    - The host opens one door that does not hide the car and is not the player's choice.\n",
    "    - Three strategies are evaluated:\n",
    "        1. 'conservative' — the original player sticks with their first choice.\n",
    "        2. 'switcher' — a second player switches to another unopened door.\n",
    "        3. 'newcommer' — a new player picks randomly from the remaining doors, including the one originally picked.\n",
    "\n",
    "    Parameters:\n",
    "        N (int): The number of doors in the game. Should be at least 3.\n",
    "\n",
    "    Returns:\n",
    "        list of str: The strategies that successfully picked the door hiding the car.\n",
    "                     Possible values include 'conservative', 'switcher', and 'newcommer'.\n",
    "    \"\"\"\n",
    "    \n",
    "    doors = list(range(1, N+1))                    # N doors, named 1,2,...,N\n",
    "   \n",
    "    door_with_car = random.choice(doors)           # the car is in one random door\n",
    "\n",
    "    door_first_choice = random.choice(doors)       # the player choses it's door\n",
    "\n",
    "    # host opens door\n",
    "\n",
    "    doors.remove(random.choice([door for door in doors if door != door_with_car and door != door_first_choice]))\n",
    "\n",
    "    winners = []\n",
    "    \n",
    "    #the player sticks to it's choice\n",
    "    if door_first_choice == door_with_car:\n",
    "        winners.append('conservative')\n",
    "    \n",
    "    #another player changes door\n",
    "    doors.remove(door_first_choice)\n",
    "    door_switch = random.choice(doors)\n",
    "    if door_switch == door_with_car:\n",
    "        winners.append('switcher')\n",
    "    \n",
    "    #a newcommer who hasn't seen anything makes it's bet\n",
    "    doors.append(door_first_choice)\n",
    "    door_newcommer_choice = random.choice(doors)\n",
    "    if door_newcommer_choice == door_with_car:\n",
    "        winners.append('newcommer')\n",
    "\n",
    "    return winners\n",
    "\n"
   ]
  },
  {
   "cell_type": "code",
   "execution_count": 7,
   "id": "0b93f915-e80c-44a3-a872-f5fe2c613753",
   "metadata": {},
   "outputs": [
    {
     "data": {
      "text/plain": [
       "\u001b[0;31mSignature:\u001b[0m \u001b[0mMontyHall\u001b[0m\u001b[0;34m(\u001b[0m\u001b[0mN\u001b[0m\u001b[0;34m)\u001b[0m\u001b[0;34m\u001b[0m\u001b[0;34m\u001b[0m\u001b[0m\n",
       "\u001b[0;31mDocstring:\u001b[0m\n",
       "Simulates a generalized Monty Hall problem with N doors.\n",
       "\n",
       "In this simulation:\n",
       "- A car is hidden behind one of N doors.\n",
       "- A player picks a door at random.\n",
       "- The host opens one door that does not hide the car and is not the player's choice.\n",
       "- Three strategies are evaluated:\n",
       "    1. 'conservative' — the original player sticks with their first choice.\n",
       "    2. 'switcher' — a second player switches to another unopened door.\n",
       "    3. 'newcommer' — a new player picks randomly from the remaining doors, including the one originally picked.\n",
       "\n",
       "Parameters:\n",
       "    N (int): The number of doors in the game. Should be at least 3.\n",
       "\n",
       "Returns:\n",
       "    list of str: The strategies that successfully picked the door hiding the car.\n",
       "                 Possible values include 'conservative', 'switcher', and 'newcommer'.\n",
       "\u001b[0;31mFile:\u001b[0m      /tmp/ipykernel_45053/2395852218.py\n",
       "\u001b[0;31mType:\u001b[0m      function"
      ]
     },
     "metadata": {},
     "output_type": "display_data"
    }
   ],
   "source": [
    "MontyHall?"
   ]
  },
  {
   "cell_type": "code",
   "execution_count": 30,
   "id": "81af8cad",
   "metadata": {},
   "outputs": [
    {
     "name": "stdout",
     "output_type": "stream",
     "text": [
      "Strategy              Expected Wins         Actual Wins\n",
      "-------------------------------------------------------\n",
      "conservative               20000.00               19979\n",
      "switcher                   26666.67               26784\n",
      "newcommer                  25000.00               24811\n"
     ]
    },
    {
     "data": {
      "image/png": "[encoded data removed]",
      "text/plain": [
       "<Figure size 640x480 with 1 Axes>"
      ]
     },
     "metadata": {},
     "output_type": "display_data"
    }
   ],
   "source": [
    "N_doors = 5\n",
    "n_games = 100000\n",
    "\n",
    "games = []\n",
    "for _ in range(n_games):           # 1000 games\n",
    "    games.append(MontyHall(N_doors))  # 3 doors\n",
    "\n",
    "results = [winners for game in games for winners in game]\n",
    "\n",
    "counts = Counter(results)\n",
    "\n",
    "\n",
    "categories = ['conservative', 'switcher', 'newcommer']\n",
    "colors = ['#1f77b4', '#ff7f0e', '#2ca02c']\n",
    "ordered_counts = [counts.get(category, 0) for category in categories]\n",
    "\n",
    "# Predicted results\n",
    "expected = {\n",
    "    'conservative': n_games * (N_doors - 1) * (1 / N_doors) * (1 / (N_doors -1 )) ,\n",
    "    'switcher': n_games * (N_doors - 1) * (1 / N_doors) * (1 / (N_doors -2 )),\n",
    "    'newcommer': n_games * (1 / (N_doors - 1))\n",
    "}\n",
    "\n",
    "# Print expected vs actual\n",
    "print(f\"{'Strategy':<15}{'Expected Wins':>20}{'Actual Wins':>20}\")\n",
    "print(\"-\" * 55)\n",
    "for cat in categories:\n",
    "    exp = expected[cat]\n",
    "    act = counts.get(cat, 0)\n",
    "    print(f\"{cat:<15}{exp:>20.2f}{act:>20}\")\n",
    "\n",
    "\n",
    "# Plot the histogram\n",
    "plt.bar(categories, ordered_counts, color=colors)\n",
    "plt.ylabel('Counts')\n",
    "plt.title(f'{n_games:.0f} Monty-Hall games, {N_doors:.0f} doors')\n",
    "plt.show()"
   ]
  },
  {
   "cell_type": "markdown",
   "id": "c0aff488-c4b0-43bd-874b-c6e1e000dbfa",
   "metadata": {},
   "source": [
    "# Simple Solution\n",
    "\n",
    "Most people conclude that switching does not matter, because there would be a 50% chance of finding the car behind either of the two unopened doors. This would be true if the host selected a door to open at random, but this is not the case. The host-opened door depends on the player's initial choice, so the assumption of independence does not hold. Before the host opens a door, there is a ⁠\n",
    "1\n",
    "/\n",
    "3\n",
    "⁠ probability that the car is behind each door. If the car is behind door 1, the host can open either door 2 or door 3, so the probability that the car is behind door 1 and the host opens door 3 is ⁠\n",
    "1\n",
    "/\n",
    "3\n",
    "⁠ × ⁠\n",
    "1\n",
    "/\n",
    "2\n",
    "⁠ = ⁠\n",
    "1\n",
    "/\n",
    "6\n",
    "⁠. If the car is behind door 2 – with the player having picked door 1 – the host must open door 3, such the probability that the car is behind door 2 and the host opens door 3 is ⁠\n",
    "1\n",
    "/\n",
    "3\n",
    "⁠ × 1 = ⁠\n",
    "1\n",
    "/\n",
    "3\n",
    "⁠\n",
    "\n",
    "\n",
    "As Keith Devlin says, \"By opening his door, Monty is saying to the contestant 'There are two doors you did not choose, and the probability that the prize is behind one of them is ⁠\n",
    "2\n",
    "/\n",
    "3\n",
    "⁠. I'll help you by using my knowledge of where the prize is to open one of those two doors to show you that it does not hide the prize. You can now take advantage of this additional information. Your choice of door A has a chance of 1 in 3 of being the winner. I have not changed that. But by eliminating door C, I have shown you that the probability that door B hides the prize is 2 in 3.'\"\n",
    "\n",
    "\n",
    "Savant suggests that the solution will be more intuitive with 1,000,000 doors rather than 3. In this case, there are 999,999 doors with goats behind them and one door with a prize. After the player picks a door, the host opens 999,998 of the remaining doors. On average, in 999,999 times out of 1,000,000, the remaining door will contain the prize. Intuitively, the player should ask how likely it is that, given a million doors, they managed to pick the right one initially.\n",
    "\n"
   ]
  },
  {
   "cell_type": "markdown",
   "id": "3305a89a-ebbf-4f4d-88ba-1640d7c1ef56",
   "metadata": {},
   "source": [
    "### Monty Hall with \\( N \\) doors — Probabilities\n",
    "\n",
    "Assume the player always picks **Door 1**.\n",
    "\n",
    "---\n",
    "\n",
    "#### Conservative Strategy (Stays with Door 1)\n",
    "\n",
    "- Probability that the car is behind Door 1:  \n",
    "  $$\n",
    "  P(\\text{car in Door 1}) = \\frac{1}{N}\n",
    "  $$\n",
    "\n",
    "- Host chooses a door from the remaining $N - 1$ doors:  \n",
    "  $$\n",
    "  P(\\text{host picks one of } N-1 \\text{ doors}) = \\frac{1}{N - 1}\n",
    "  $$\n",
    "\n",
    "- Multiply over all $N - 1$ possible host choices:\n",
    "  $$\n",
    "  (N - 1) \\cdot \\frac{1}{N} \\cdot \\frac{1}{N - 1} = \\frac{1}{N}\n",
    "  $$\n",
    "\n",
    "**Probability of winning by staying**:  \n",
    "$$\n",
    "P_{\\text{conservative}} = \\frac{1}{N}\n",
    "$$\n",
    "\n",
    "---\n",
    "\n",
    "#### Switcher Strategy (Car is behind another door)\n",
    "\n",
    "- There are $N - 1$ other doors the car could be behind.\n",
    "- For each such door:\n",
    "  - Probability car is there: $\\frac{1}{N}$\n",
    "  - Host must avoid that door and Door 1 → has \\( N - 2 \\) options:\n",
    "    $$\n",
    "    P(\\text{host picks a valid door}) = \\frac{1}{N - 2}\n",
    "    $$\n",
    "\n",
    "- Multiply over all \\( N - 1 \\) possible \"car not in Door 1\" cases:\n",
    "  $$\n",
    "  (N - 1) \\cdot \\frac{1}{N} \\cdot \\frac{1}{N - 2} = \\frac{N - 1}{N(N - 2)}\n",
    "  $$\n",
    "\n",
    "**Probability of winning by switching**:  \n",
    "$$\n",
    "P_{\\text{switcher}} = \\frac{N - 1}{N(N - 2)}\n",
    "$$\n"
   ]
  },
  {
   "cell_type": "code",
   "execution_count": null,
   "id": "0089da90-ce06-4b98-88b2-ac9ba169f720",
   "metadata": {},
   "outputs": [],
   "source": []
  }
 ],
 "metadata": {
  "kernelspec": {
   "display_name": "Python 3 (ipykernel)",
   "language": "python",
   "name": "python3"
  },
  "language_info": {
   "codemirror_mode": {
    "name": "ipython",
    "version": 3
   },
   "file_extension": ".py",
   "mimetype": "text/x-python",
   "name": "python",
   "nbconvert_exporter": "python",
   "pygments_lexer": "ipython3",
   "version": "3.11.5"
  }
 },
 "nbformat": 4,
 "nbformat_minor": 5
}
