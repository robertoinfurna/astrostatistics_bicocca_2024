{
 "cells": [
  {
   "cell_type": "code",
   "execution_count": 4,
   "id": "5550d4bb-0da0-4e00-8e96-819969448f15",
   "metadata": {},
   "outputs": [],
   "source": [
    "import numpy as np\n",
    "from matplotlib import pyplot as plt\n",
    "from scipy.stats import norm"
   ]
  },
  {
   "cell_type": "code",
   "execution_count": 42,
   "id": "92fda3e9-8933-4234-ba10-0f2dd384211b",
   "metadata": {},
   "outputs": [],
   "source": [
    "A = norm(42,7.48).rvs(9)\n",
    "B = norm(50,6.48).rvs(4) "
   ]
  },
  {
   "cell_type": "code",
   "execution_count": 26,
   "id": "f75fe7b1-1e33-41b4-bef4-f70d71f95021",
   "metadata": {},
   "outputs": [
    {
     "data": {
      "text/plain": [
       "(0.0, 1.0)"
      ]
     },
     "execution_count": 26,
     "metadata": {},
     "output_type": "execute_result"
    },
    {
     "data": {
      "image/png": "[encoded data removed]",
      "text/plain": [
       "<Figure size 640x480 with 1 Axes>"
      ]
     },
     "metadata": {},
     "output_type": "display_data"
    }
   ],
   "source": [
    "plt.plot(A, 0*A, '|', color='red', markersize=500)\n",
    "plt.plot(B, 0*B, '|', color='green', markersize=500)\n",
    "plt.ylim(0,1)"
   ]
  },
  {
   "cell_type": "markdown",
   "id": "7eab916a-389a-42bd-84de-505d2206d132",
   "metadata": {},
   "source": [
    "### F-test\n",
    "\n",
    "An F-test is any statistical test used to compare the variances of two samples or the ratio of variances between multiple samples. The test statistic, random variable F, is used to determine if the tested data has an F-distribution under the true null hypothesis, and true customary assumptions about the error term (ε). It is most often used when comparing statistical models that have been fitted to a data set, in order to identify the model that best fits the population from which the data were sampled. Exact \"F-tests\" mainly arise when the models have been fitted to the data using least squares. The name was coined by George W. Snedecor, in honour of Ronald Fisher. Fisher initially developed the statistic as the variance ratio in the 1920s.\n",
    "\n",
    "\n",
    "Define Hypotheses:\n",
    "\n",
    "Null Hypothesis $H_0$: The variances of A and B are equal, $σ_A^2=σ_B^2$, $σ_A^2​=σ_B^2$​.\n",
    "\n",
    "Compute the F-statistic:\n",
    "\n",
    "The F-statistic is computed as the ratio of the sample variances: $F=\\tfrac{s_A^2}{s_B^2}$​​, where $s_A^2$​ is the variance of A and $s_B^2$ is the variance of B.\n",
    "Since we are conducting a two-sided test, we compare the computed F-statistic to critical values from the F-distribution.\n",
    "\n",
    "p-value close to 1: we do not reject the null hypothesis that the variances of A and B are equal. No significant difference in variance between the two datasets, supporting the assumption that the populations may have similar variances.\n"
   ]
  },
  {
   "cell_type": "code",
   "execution_count": 35,
   "id": "63adc671-f88c-46ac-a43d-6bb8ab441229",
   "metadata": {},
   "outputs": [
    {
     "name": "stdout",
     "output_type": "stream",
     "text": [
      "F-statistic: 1.332456942539247\n",
      "p-value: 0.8958602517465144\n"
     ]
    }
   ],
   "source": [
    "from scipy.stats import f\n",
    "\n",
    "var_A = 7.48**2\n",
    "var_B = 6.48**2\n",
    "\n",
    "F_statistic = var_A / var_B if var_A > var_B else var_B / var_A\n",
    "\n",
    "df1 = len(A) - 1\n",
    "df2 = len(B) - 1\n",
    "\n",
    "# p-value for a two-tailed F-test\n",
    "p_value = 2 * min(f.cdf(F_statistic, df1, df2), 1 - f.cdf(F_statistic, df1, df2))\n",
    "\n",
    "# Output the results\n",
    "print(\"F-statistic:\", F_statistic)\n",
    "print(\"p-value:\", p_value)"
   ]
  },
  {
   "cell_type": "markdown",
   "id": "191a3e09-7dfe-49cb-9d88-5c586b490cc3",
   "metadata": {},
   "source": [
    "### t-test\n",
    "\n",
    "Student's t-test is a statistical test used to test whether the difference between the response of two groups is statistically significant or not. It is any statistical hypothesis test in which the test statistic follows a Student's t-distribution under the null hypothesis. It is most commonly applied when the test statistic would follow a normal distribution if the value of a scaling term in the test statistic were known (typically, the scaling term is unknown and is therefore a nuisance parameter). When the scaling term is estimated based on the data, the test statistic—under certain conditions—follows a Student's t distribution. The t-test's most common application is to test whether the means of two populations are significantly different. In many cases, a Z-test will yield very similar results to a t-test because the latter converges to the former as the size of the dataset increases. \n",
    "\n",
    "There are several types of t-tests, each suited for different experimental setups. Here's an overview of the most commonly used ones:\n",
    "1. One-Sample t-test\n",
    "\n",
    "    Compares the mean of a single sample to a known value (often a population mean).\n",
    "    Used when you want to check if the sample mean differs significantly from a hypothesized value.\n",
    "\n",
    "2. Two-Sample (Independent) t-test\n",
    "\n",
    "    Compares the means of two independent groups to see if there is a statistically significant difference between them.\n",
    "    Assumptions:\n",
    "        The data in each sample are independent.\n",
    "        The data are normally distributed in each group (especially important for small sample sizes).\n",
    "        The variances of the two groups can either be assumed to be equal (standard t-test) or not (Welch's t-test).\n",
    "    Welch's t-test: A variation of the two-sample t-test that does not assume equal variances between the two groups.\n",
    "\n",
    "3. Paired t-test\n",
    "\n",
    "    Compares the means of two related groups (e.g., measurements before and after a treatment on the same individuals).\n",
    "    Used for \"within-subject\" designs, where the same subjects are used in both conditions.\n",
    "\n",
    "Assuming two independent samples with means $\\bar{X_1}$ and $\\bar{X_2}$​, sample sizes $n_1$​ and $n_2$​, and standard deviations $s_1$ and $s_2$​:\n",
    "\n",
    "$$t = \\frac{\\bar{X_1}-\\bar{X_2}}{\\sqrt{\\frac{s_1^2}{n_1}+\\frac{s_2^2}{n_2}}}$$\n",
    "\n"
   ]
  },
  {
   "cell_type": "code",
   "execution_count": 41,
   "id": "80a3f93f-a9b4-474f-85fa-3b3fa25caefa",
   "metadata": {},
   "outputs": [
    {
     "name": "stdout",
     "output_type": "stream",
     "text": [
      "t-statistic: 0.3161985890349058\n",
      "p-value: 0.7605189180463248\n"
     ]
    }
   ],
   "source": [
    "from scipy.stats import ttest_ind\n",
    "\n",
    "# two-sample t-test assuming unequal variances (Welch's t-test)\n",
    "t_statistic, p_value = ttest_ind(A, B, equal_var=False)\n",
    "\n",
    "print(\"t-statistic:\", t_statistic)\n",
    "print(\"p-value:\", p_value)\n"
   ]
  },
  {
   "cell_type": "code",
   "execution_count": 43,
   "id": "66f07a30-7aa8-4a7b-9bad-d698beab5990",
   "metadata": {},
   "outputs": [],
   "source": [
    "#### BIG PROBLEM HERE!!"
   ]
  },
  {
   "cell_type": "code",
   "execution_count": null,
   "id": "01962349-1c2b-499d-b7b6-e054d0a8d3f2",
   "metadata": {},
   "outputs": [],
   "source": []
  },
  {
   "cell_type": "code",
   "execution_count": null,
   "id": "f9949f18-b267-4722-942c-d9e0a51eb5ed",
   "metadata": {},
   "outputs": [],
   "source": []
  },
  {
   "cell_type": "code",
   "execution_count": null,
   "id": "a7b7246a-b611-4784-b91a-ece305926986",
   "metadata": {},
   "outputs": [],
   "source": []
  }
 ],
 "metadata": {
  "kernelspec": {
   "display_name": "Python 3 (ipykernel)",
   "language": "python",
   "name": "python3"
  },
  "language_info": {
   "codemirror_mode": {
    "name": "ipython",
    "version": 3
   },
   "file_extension": ".py",
   "mimetype": "text/x-python",
   "name": "python",
   "nbconvert_exporter": "python",
   "pygments_lexer": "ipython3",
   "version": "3.11.5"
  }
 },
 "nbformat": 4,
 "nbformat_minor": 5
}
