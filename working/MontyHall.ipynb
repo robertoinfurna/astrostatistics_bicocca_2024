{
 "cells": [
  {
   "cell_type": "code",
   "execution_count": 3,
   "id": "4860673d",
   "metadata": {},
   "outputs": [],
   "source": [
    "import numpy as np\n",
    "import pylab as plt\n",
    "import random"
   ]
  },
  {
   "cell_type": "code",
   "execution_count": 4,
   "id": "dbd0e818",
   "metadata": {},
   "outputs": [],
   "source": [
    "class MontyHall:\n",
    "    def __init__(self, name, grade=None):\n",
    "        self.name = name\n",
    "        self.grade = grade"
   ]
  },
  {
   "cell_type": "code",
   "execution_count": 13,
   "id": "ef897aec",
   "metadata": {},
   "outputs": [
    {
     "ename": "SyntaxError",
     "evalue": "invalid syntax (589687689.py, line 19)",
     "output_type": "error",
     "traceback": [
      "\u001b[0;36m  Cell \u001b[0;32mIn[13], line 19\u001b[0;36m\u001b[0m\n\u001b[0;31m    elif door_newcommer_choice == door_with_car:\u001b[0m\n\u001b[0m    ^\u001b[0m\n\u001b[0;31mSyntaxError\u001b[0m\u001b[0;31m:\u001b[0m invalid syntax\n"
     ]
    }
   ],
   "source": [
    "\n",
    "\n",
    "def MontyHall(N): \n",
    "    doors = np.arange(1,N+1) #N doors, named 1,2,...,N\n",
    "    doors_copy = list(doors) #shallow copy of doors. This list is usefull to the algorithm \n",
    "    door_with_car = random.choice(doors) #the car is in one random door\n",
    "    door_first_choice = random.choice(doors) #the player choses it's door\n",
    "    \n",
    "    doors_copy.remove(door_with_car) \n",
    "    if door_first_choice != door_with_car:\n",
    "        doors_copy.remove(door_first_choice)\n",
    "    #host opens door \n",
    "    host_door = random.choice(doors_copy)\n",
    "    doors.remove(host_door)\n",
    "    \n",
    "    \n",
    "    \n",
    "    \n",
    "    \n",
    "    #the player sticks to it's choice\n",
    "    if door_first_choice == door_with_car:\n",
    "        return 1\n",
    "    #the first player changes door\n",
    "    doors.remove(door_first_choice)\n",
    "    door_switch = random.choice(doors)\n",
    "    if door_switch == door_with_car:\n",
    "        return 2\n",
    "    else:\n",
    "        return 0\n",
    "    \n",
    "    \n",
    "    \n",
    "    #a newcommer makes it's bet\n",
    "    #door_newcommer_choice = random.choice(doors)\n",
    "    #elif door_newcommer_choice == door_with_car:\n",
    "    #    return 2  "
   ]
  },
  {
   "cell_type": "code",
   "execution_count": 6,
   "id": "81af8cad",
   "metadata": {},
   "outputs": [
    {
     "ename": "TypeError",
     "evalue": "MontyHall.__init__() missing 1 required positional argument: 'name'",
     "output_type": "error",
     "traceback": [
      "\u001b[0;31m---------------------------------------------------------------------------\u001b[0m",
      "\u001b[0;31mTypeError\u001b[0m                                 Traceback (most recent call last)",
      "Cell \u001b[0;32mIn[6], line 3\u001b[0m\n\u001b[1;32m      1\u001b[0m x \u001b[38;5;241m=\u001b[39m []\n\u001b[1;32m      2\u001b[0m \u001b[38;5;28;01mfor\u001b[39;00m n \u001b[38;5;129;01min\u001b[39;00m \u001b[38;5;28mrange\u001b[39m(\u001b[38;5;241m0\u001b[39m, \u001b[38;5;241m100000\u001b[39m, \u001b[38;5;241m1\u001b[39m):\n\u001b[0;32m----> 3\u001b[0m     x\u001b[38;5;241m.\u001b[39mappend(MontyHall())\n",
      "\u001b[0;31mTypeError\u001b[0m: MontyHall.__init__() missing 1 required positional argument: 'name'"
     ]
    }
   ],
   "source": [
    "x = []\n",
    "for n in range(0, 100000, 1):\n",
    "    x.append(MontyHall())"
   ]
  },
  {
   "cell_type": "code",
   "execution_count": 12,
   "id": "422b8d39",
   "metadata": {},
   "outputs": [
    {
     "name": "stdout",
     "output_type": "stream",
     "text": [
      "[ 1  2  3  4  5  6  7  8  9 10]\n"
     ]
    }
   ],
   "source": [
    "N=10\n",
    "doors = np.arange(1,N+1)\n",
    "print(doors)"
   ]
  },
  {
   "cell_type": "code",
   "execution_count": 46,
   "id": "5e497368",
   "metadata": {},
   "outputs": [
    {
     "data": {
      "text/plain": [
       "(array([66712., 33288.]),\n",
       " array([0. , 0.5, 1. ]),\n",
       " <BarContainer object of 2 artists>)"
      ]
     },
     "execution_count": 46,
     "metadata": {},
     "output_type": "execute_result"
    },
    {
     "data": {
      "image/png": "[encoded data removed]",
      "text/plain": [
       "<Figure size 640x480 with 1 Axes>"
      ]
     },
     "metadata": {},
     "output_type": "display_data"
    }
   ],
   "source": [
    "N  = int(1e5) # Do this many times\n",
    "probs = {}\n",
    "\n",
    "for which in tqdm(['switch','keep','external']):\n",
    "    events = [threedoors(which) for i in tqdm(range(N))]\n",
    "    probs[which] = np.sum(events)/ N\n",
    "\n",
    "\n",
    "\n",
    "\n",
    "\n",
    "plt.hist(x,2)\n",
    "\n",
    "\n",
    "plt.bar([0,1,2], [probs[k] for k in probs.keys()], color='green');\n",
    "plt.xticks([0,1,2], probs.keys());\n",
    "\n",
    "for y in [1/3,1/2,2/3]:\n",
    "    plt.axhline(y, ls='dotted',c='black')"
   ]
  },
  {
   "cell_type": "code",
   "execution_count": 43,
   "id": "83283d94",
   "metadata": {},
   "outputs": [
    {
     "ename": "ValueError",
     "evalue": "list.remove(x): x not in list",
     "output_type": "error",
     "traceback": [
      "\u001b[0;31m---------------------------------------------------------------------------\u001b[0m",
      "\u001b[0;31mValueError\u001b[0m                                Traceback (most recent call last)",
      "Cell \u001b[0;32mIn[43], line 2\u001b[0m\n\u001b[1;32m      1\u001b[0m a \u001b[38;5;241m=\u001b[39m [\u001b[38;5;241m0\u001b[39m,\u001b[38;5;241m1\u001b[39m,\u001b[38;5;241m2\u001b[39m]\n\u001b[0;32m----> 2\u001b[0m a\u001b[38;5;241m.\u001b[39mremove(\u001b[38;5;241m3\u001b[39m)\n",
      "\u001b[0;31mValueError\u001b[0m: list.remove(x): x not in list"
     ]
    }
   ],
   "source": [
    "a = [0,1,2]\n",
    "a.remove(3)"
   ]
  },
  {
   "cell_type": "code",
   "execution_count": 42,
   "id": "d3abb9ce",
   "metadata": {},
   "outputs": [
    {
     "name": "stdout",
     "output_type": "stream",
     "text": [
      "[0, 1]\n"
     ]
    }
   ],
   "source": [
    "print(a)"
   ]
  },
  {
   "cell_type": "code",
   "execution_count": 1,
   "id": "a224b5a3",
   "metadata": {},
   "outputs": [
    {
     "data": {
      "image/jpeg": "[encoded data removed]",
      "text/html": [
       "\n",
       "        <iframe\n",
       "            width=\"600\"\n",
       "            height=\"400\"\n",
       "            src=\"https://www.youtube.com/embed/ggDQXlinbME\"\n",
       "            frameborder=\"0\"\n",
       "            allowfullscreen\n",
       "            \n",
       "        ></iframe>\n",
       "        "
      ],
      "text/plain": [
       "<IPython.lib.display.YouTubeVideo at 0x7f479825b410>"
      ]
     },
     "execution_count": 1,
     "metadata": {},
     "output_type": "execute_result"
    }
   ],
   "source": [
    "from IPython.display import YouTubeVideo\n",
    "YouTubeVideo('ggDQXlinbME', width=600, height=400)"
   ]
  },
  {
   "cell_type": "code",
   "execution_count": null,
   "id": "2be69522",
   "metadata": {},
   "outputs": [],
   "source": []
  }
 ],
 "metadata": {
  "kernelspec": {
   "display_name": "Python 3 (ipykernel)",
   "language": "python",
   "name": "python3"
  },
  "language_info": {
   "codemirror_mode": {
    "name": "ipython",
    "version": 3
   },
   "file_extension": ".py",
   "mimetype": "text/x-python",
   "name": "python",
   "nbconvert_exporter": "python",
   "pygments_lexer": "ipython3",
   "version": "3.11.5"
  }
 },
 "nbformat": 4,
 "nbformat_minor": 5
}
